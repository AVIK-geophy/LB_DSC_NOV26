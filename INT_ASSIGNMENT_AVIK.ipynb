{
  "nbformat": 4,
  "nbformat_minor": 0,
  "metadata": {
    "kernelspec": {
      "display_name": "Python 3",
      "language": "python",
      "name": "python3"
    },
    "language_info": {
      "codemirror_mode": {
        "name": "ipython",
        "version": 3
      },
      "file_extension": ".py",
      "mimetype": "text/x-python",
      "name": "python",
      "nbconvert_exporter": "python",
      "pygments_lexer": "ipython3",
      "version": "3.8.5"
    },
    "colab": {
      "name": "INT_ASSIGNMENT_AVIK.ipynb",
      "provenance": [],
      "include_colab_link": true
    }
  },
  "cells": [
    {
      "cell_type": "markdown",
      "metadata": {
        "id": "view-in-github",
        "colab_type": "text"
      },
      "source": [
        "<a href=\"https://colab.research.google.com/github/AVIK-geophy/LB_DSC_NOV26/blob/main/INT_ASSIGNMENT_AVIK.ipynb\" target=\"_parent\"><img src=\"https://colab.research.google.com/assets/colab-badge.svg\" alt=\"Open In Colab\"/></a>"
      ]
    },
    {
      "cell_type": "markdown",
      "metadata": {
        "id": "C1VIB8jbON-V"
      },
      "source": [
        "# INTEGER ASSIGNMENTS"
      ]
    },
    {
      "cell_type": "markdown",
      "metadata": {
        "id": "hClkNbiLON-W"
      },
      "source": [
        "### Q. Declare an int value and store it in a variable. Check the type and print the id of the same."
      ]
    },
    {
      "cell_type": "code",
      "metadata": {
        "id": "BR74t9UyON-W",
        "outputId": "cab928ea-5333-4f8b-b520-1ccb3f09c991"
      },
      "source": [
        "a=8\n",
        "print(type(a),id(a))"
      ],
      "execution_count": null,
      "outputs": [
        {
          "output_type": "stream",
          "text": [
            "<class 'int'> 140733133629440\n"
          ],
          "name": "stdout"
        }
      ]
    },
    {
      "cell_type": "markdown",
      "metadata": {
        "id": "Tg9i739UON-W"
      },
      "source": [
        "### Q. Take one int value between 0 - 256. Assign it to two different variables. Check the id of both the variables. It should come the same. Check why?"
      ]
    },
    {
      "cell_type": "code",
      "metadata": {
        "id": "M0-HhrtoON-W",
        "outputId": "a0c91a4b-8902-42e9-cb27-2177445cd900"
      },
      "source": [
        "a=8\n",
        "b=8\n",
        "print(id(a))\n",
        "print(id(b))"
      ],
      "execution_count": null,
      "outputs": [
        {
          "output_type": "stream",
          "text": [
            "140733133629440\n",
            "140733133629440\n"
          ],
          "name": "stdout"
        }
      ]
    },
    {
      "cell_type": "markdown",
      "metadata": {
        "id": "X4Mb3dkCON-X"
      },
      "source": [
        "I have taken one int value 8 and stored it in two variables named 'a' and 'b'. It is observed that both variables are ponting to a same id. The reason can be attibuted as mentioned below:\n",
        "\n",
        "In python everything is an object and all objects are stored in the Heap Area of the application.Generally in python a specific object is stored against a particular id in this heap area and this specific object can be pointed by different variables which are store in variable area. That is why id's of 'a' and 'b' are same. \n"
      ]
    },
    {
      "cell_type": "markdown",
      "metadata": {
        "id": "2N6dqEvkON-X"
      },
      "source": [
        "### Q. Take one int value either less than -5 or greater than 256. Assign it to two different variables. Check the id of both the variables. It should come different.Check why?"
      ]
    },
    {
      "cell_type": "code",
      "metadata": {
        "id": "XIyeTqx5ON-X",
        "outputId": "e6b6909b-cf35-4ce2-ab73-e54a299cecb9"
      },
      "source": [
        "a=290\n",
        "b=290\n",
        "print(id(a))\n",
        "print(id(b))"
      ],
      "execution_count": null,
      "outputs": [
        {
          "output_type": "stream",
          "text": [
            "2128890989328\n",
            "2128890989712\n"
          ],
          "name": "stdout"
        }
      ]
    },
    {
      "cell_type": "markdown",
      "metadata": {
        "id": "g4IJJPmAON-X"
      },
      "source": [
        "Id's of both the variables has come different because for values outside 0-256 the application stores the values in different id's in the heap area. "
      ]
    },
    {
      "cell_type": "markdown",
      "metadata": {
        "id": "WxMP4mA5ON-X"
      },
      "source": [
        "### Q. Arithmetic Operations on integers Take two different integer values. Store them in two different variables. Do below operations on them:- "
      ]
    },
    {
      "cell_type": "code",
      "metadata": {
        "id": "e-WchxSMON-X"
      },
      "source": [
        "a=8\n",
        "b=3"
      ],
      "execution_count": null,
      "outputs": []
    },
    {
      "cell_type": "markdown",
      "metadata": {
        "id": "FE-okKMVON-X"
      },
      "source": [
        "####  Find sum of both numbers"
      ]
    },
    {
      "cell_type": "code",
      "metadata": {
        "id": "MlCApJdMON-X",
        "outputId": "c67034c9-3686-4a4d-f9e4-d39e2a8affeb"
      },
      "source": [
        "print(a+b)"
      ],
      "execution_count": null,
      "outputs": [
        {
          "output_type": "stream",
          "text": [
            "11\n"
          ],
          "name": "stdout"
        }
      ]
    },
    {
      "cell_type": "markdown",
      "metadata": {
        "id": "d2V0r2uhON-X"
      },
      "source": [
        "#### Find difference between them"
      ]
    },
    {
      "cell_type": "code",
      "metadata": {
        "id": "nYvzZ-TaON-X",
        "outputId": "54897a4f-f7ac-4374-f4da-fc5186a4366d"
      },
      "source": [
        "print(a-b)"
      ],
      "execution_count": null,
      "outputs": [
        {
          "output_type": "stream",
          "text": [
            "5\n"
          ],
          "name": "stdout"
        }
      ]
    },
    {
      "cell_type": "markdown",
      "metadata": {
        "id": "k83KXHwuON-X"
      },
      "source": [
        "#### Find product between them"
      ]
    },
    {
      "cell_type": "code",
      "metadata": {
        "id": "ayWXKW8tON-Y",
        "outputId": "7f76d699-c8c5-47fd-e216-b5e473ebb628"
      },
      "source": [
        "print(a*b)"
      ],
      "execution_count": null,
      "outputs": [
        {
          "output_type": "stream",
          "text": [
            "24\n"
          ],
          "name": "stdout"
        }
      ]
    },
    {
      "cell_type": "markdown",
      "metadata": {
        "id": "_-YG-eq4ON-Y"
      },
      "source": [
        "#### Find value after dividing first num with second number"
      ]
    },
    {
      "cell_type": "code",
      "metadata": {
        "id": "TID07M73ON-Y",
        "outputId": "48f9060b-00e1-48d9-a18e-33f89d02b4ab"
      },
      "source": [
        "print(a/b)"
      ],
      "execution_count": null,
      "outputs": [
        {
          "output_type": "stream",
          "text": [
            "2.6666666666666665\n"
          ],
          "name": "stdout"
        }
      ]
    },
    {
      "cell_type": "markdown",
      "metadata": {
        "id": "_D4xuA63ON-Y"
      },
      "source": [
        "#### Find the remainder after dividing first number with second number"
      ]
    },
    {
      "cell_type": "code",
      "metadata": {
        "colab": {
          "base_uri": "https://localhost:8080/",
          "height": 164
        },
        "id": "622b-XQaON-Y",
        "outputId": "4db1f43e-b76c-483d-9374-faf66b96b660"
      },
      "source": [
        "print(a%b)"
      ],
      "execution_count": 1,
      "outputs": [
        {
          "output_type": "error",
          "ename": "NameError",
          "evalue": "ignored",
          "traceback": [
            "\u001b[0;31m---------------------------------------------------------------------------\u001b[0m",
            "\u001b[0;31mNameError\u001b[0m                                 Traceback (most recent call last)",
            "\u001b[0;32m<ipython-input-1-95807d6dc8a5>\u001b[0m in \u001b[0;36m<module>\u001b[0;34m()\u001b[0m\n\u001b[0;32m----> 1\u001b[0;31m \u001b[0mprint\u001b[0m\u001b[0;34m(\u001b[0m\u001b[0ma\u001b[0m\u001b[0;34m%\u001b[0m\u001b[0mb\u001b[0m\u001b[0;34m)\u001b[0m\u001b[0;34m\u001b[0m\u001b[0;34m\u001b[0m\u001b[0m\n\u001b[0m",
            "\u001b[0;31mNameError\u001b[0m: name 'a' is not defined"
          ]
        }
      ]
    },
    {
      "cell_type": "markdown",
      "metadata": {
        "id": "Pnpqev2pON-Z"
      },
      "source": [
        "#### Find the quotient after dividing first number with second number"
      ]
    },
    {
      "cell_type": "code",
      "metadata": {
        "id": "eN2KBPCaON-Z",
        "outputId": "4790398c-3032-4735-979c-6b3b84b42b54"
      },
      "source": [
        "print(a//b)"
      ],
      "execution_count": null,
      "outputs": [
        {
          "output_type": "stream",
          "text": [
            "2\n"
          ],
          "name": "stdout"
        }
      ]
    },
    {
      "cell_type": "markdown",
      "metadata": {
        "id": "nyiUxNEvON-a"
      },
      "source": [
        "#### Find the result of the first num to the power of the second number."
      ]
    },
    {
      "cell_type": "code",
      "metadata": {
        "id": "OaL0v-7_ON-a",
        "outputId": "181bd7d8-62e7-4a9c-fbf6-fb9c9b90e30a"
      },
      "source": [
        "print(b**a)"
      ],
      "execution_count": null,
      "outputs": [
        {
          "output_type": "stream",
          "text": [
            "6561\n"
          ],
          "name": "stdout"
        }
      ]
    },
    {
      "cell_type": "markdown",
      "metadata": {
        "id": "KJrsn5gWON-a"
      },
      "source": [
        "### Q. Comparison Operators on integers\n",
        "Take two different integer values.\n",
        "Store them in two different variables.\n",
        "Do below operations on them:-\n",
        " Compare se two numbers with below operator:-\n",
        " \n",
        " Greater than, '>'\n",
        "\n",
        " Smaller than, '<'\n",
        " \n",
        " Greater than or equal to, '>='\n",
        " \n",
        " Less than or equal to, '<='\n",
        "Observe their output(return type should be boolean)"
      ]
    },
    {
      "cell_type": "code",
      "metadata": {
        "id": "pv9uGB3xON-a",
        "outputId": "b94ed6fd-6173-4272-891b-fa7e96ee27e3"
      },
      "source": [
        "print(a>b)\n",
        "print(a<b)\n",
        "print(a>=b)\n",
        "print(a<=b)"
      ],
      "execution_count": null,
      "outputs": [
        {
          "output_type": "stream",
          "text": [
            "True\n",
            "False\n",
            "True\n",
            "False\n"
          ],
          "name": "stdout"
        }
      ]
    },
    {
      "cell_type": "markdown",
      "metadata": {
        "id": "jD7WvOnsON-a"
      },
      "source": [
        "### Q. Equality Operator\n",
        "Take two different integer values.\n",
        "Store them in two different variables.\n",
        "\n",
        "Equate them using equality operators (==, !=)\n",
        "\n",
        "Observe the output(return type should be boolean)\n"
      ]
    },
    {
      "cell_type": "code",
      "metadata": {
        "id": "QkK3U-3UON-a",
        "outputId": "807cb33d-f1c6-4dde-ccfc-34136bb94599"
      },
      "source": [
        "print(a==b)\n",
        "print(a!=b)"
      ],
      "execution_count": null,
      "outputs": [
        {
          "output_type": "stream",
          "text": [
            "False\n",
            "True\n"
          ],
          "name": "stdout"
        }
      ]
    },
    {
      "cell_type": "markdown",
      "metadata": {
        "id": "tmbZvZBKON-a"
      },
      "source": [
        "### Q. Logical operators\n",
        "Observe the output of below code"
      ]
    },
    {
      "cell_type": "code",
      "metadata": {
        "id": "x6qjaJFeON-a",
        "outputId": "1858a727-d111-42c7-95b9-ff5c84101d62"
      },
      "source": [
        "print(10 and 0)"
      ],
      "execution_count": null,
      "outputs": [
        {
          "output_type": "stream",
          "text": [
            "20\n"
          ],
          "name": "stdout"
        }
      ]
    },
    {
      "cell_type": "code",
      "metadata": {
        "id": "x1OHOX-GON-a",
        "outputId": "c826aef8-620a-4770-ae89-d7b8ef7375db"
      },
      "source": [
        "print(0 and 20)"
      ],
      "execution_count": null,
      "outputs": [
        {
          "output_type": "stream",
          "text": [
            "0\n"
          ],
          "name": "stdout"
        }
      ]
    },
    {
      "cell_type": "code",
      "metadata": {
        "id": "rkTo0CC3ON-a",
        "outputId": "f13ba5a3-8b5a-4afb-d321-3ec5a543559d"
      },
      "source": [
        "print(20 and 0)"
      ],
      "execution_count": null,
      "outputs": [
        {
          "output_type": "stream",
          "text": [
            "0\n"
          ],
          "name": "stdout"
        }
      ]
    },
    {
      "cell_type": "code",
      "metadata": {
        "id": "sJbNhVKbON-b",
        "outputId": "37ad2650-5dc7-4322-a834-e792ea9ca59e"
      },
      "source": [
        "print(0 and 0)"
      ],
      "execution_count": null,
      "outputs": [
        {
          "output_type": "stream",
          "text": [
            "0\n"
          ],
          "name": "stdout"
        }
      ]
    },
    {
      "cell_type": "code",
      "metadata": {
        "id": "nTZVLN1hON-b",
        "outputId": "adba20e6-ebed-4956-cf15-6bd1ac9d5156"
      },
      "source": [
        "print(10 or 20)"
      ],
      "execution_count": null,
      "outputs": [
        {
          "output_type": "stream",
          "text": [
            "10\n"
          ],
          "name": "stdout"
        }
      ]
    },
    {
      "cell_type": "code",
      "metadata": {
        "id": "hcL582s0ON-b",
        "outputId": "e599d3d8-47ae-47cc-8404-55c093b2d7fb"
      },
      "source": [
        "print(0 or 20)"
      ],
      "execution_count": null,
      "outputs": [
        {
          "output_type": "stream",
          "text": [
            "20\n"
          ],
          "name": "stdout"
        }
      ]
    },
    {
      "cell_type": "code",
      "metadata": {
        "id": "k3X3rqNCON-b",
        "outputId": "7a9f5ba1-9c30-4a71-d96f-478296d35b53"
      },
      "source": [
        "print(20 or 0)"
      ],
      "execution_count": null,
      "outputs": [
        {
          "output_type": "stream",
          "text": [
            "20\n"
          ],
          "name": "stdout"
        }
      ]
    },
    {
      "cell_type": "code",
      "metadata": {
        "id": "guFm1giFON-b",
        "outputId": "d8a570cb-3fa0-4d0c-9992-a7f96449e25e"
      },
      "source": [
        "print(0 or 0)"
      ],
      "execution_count": null,
      "outputs": [
        {
          "output_type": "stream",
          "text": [
            "0\n"
          ],
          "name": "stdout"
        }
      ]
    },
    {
      "cell_type": "code",
      "metadata": {
        "id": "5igmzBvPON-b",
        "outputId": "47a05584-0d5f-40a8-8800-e9910ca69773"
      },
      "source": [
        "print(not 10)"
      ],
      "execution_count": null,
      "outputs": [
        {
          "output_type": "stream",
          "text": [
            "False\n"
          ],
          "name": "stdout"
        }
      ]
    },
    {
      "cell_type": "code",
      "metadata": {
        "id": "nO-02JKYON-b",
        "outputId": "976fbf78-ac9f-4941-e4b8-9100c318dc65"
      },
      "source": [
        "print(not 0)"
      ],
      "execution_count": null,
      "outputs": [
        {
          "output_type": "stream",
          "text": [
            "True\n"
          ],
          "name": "stdout"
        }
      ]
    },
    {
      "cell_type": "markdown",
      "metadata": {
        "id": "1HCjRQRkON-b"
      },
      "source": [
        "### Q. Bitwise Operators\n",
        "Do below operations on the values provided below:-"
      ]
    },
    {
      "cell_type": "code",
      "metadata": {
        "id": "8eHQXWdRON-b",
        "outputId": "f7631603-cd01-4881-8602-1718462f6808"
      },
      "source": [
        "print(10 & 20)"
      ],
      "execution_count": null,
      "outputs": [
        {
          "output_type": "stream",
          "text": [
            "0\n"
          ],
          "name": "stdout"
        }
      ]
    },
    {
      "cell_type": "code",
      "metadata": {
        "id": "1R0pzyDpON-b",
        "outputId": "02354b92-fed0-458f-af72-aec6d15cc2c8"
      },
      "source": [
        "print(10 | 20)"
      ],
      "execution_count": null,
      "outputs": [
        {
          "output_type": "stream",
          "text": [
            "30\n"
          ],
          "name": "stdout"
        }
      ]
    },
    {
      "cell_type": "code",
      "metadata": {
        "id": "6EMGZio4ON-b",
        "outputId": "6ed45d0f-a35a-4159-8b1b-3222cb4eef2e"
      },
      "source": [
        "print(10^20)"
      ],
      "execution_count": null,
      "outputs": [
        {
          "output_type": "stream",
          "text": [
            "30\n"
          ],
          "name": "stdout"
        }
      ]
    },
    {
      "cell_type": "code",
      "metadata": {
        "id": "aYPXyGKbON-b",
        "outputId": "79b3dd71-9829-4ef9-a87a-27420cc4811d"
      },
      "source": [
        "print(~10)"
      ],
      "execution_count": null,
      "outputs": [
        {
          "output_type": "stream",
          "text": [
            "-11\n"
          ],
          "name": "stdout"
        }
      ]
    },
    {
      "cell_type": "markdown",
      "metadata": {
        "id": "VeBw7PyCON-b"
      },
      "source": [
        "###  Q. What is the output of expression inside print statement. Cross check before running the program."
      ]
    },
    {
      "cell_type": "code",
      "metadata": {
        "id": "s76E_QrEON-b",
        "outputId": "70b120ac-d807-4d3e-8f86-29866d6a1a3e"
      },
      "source": [
        "print ( 10 +( 10 * 32 )// 2 ** 5 & 20 +(~( -10 ))<< 2 )"
      ],
      "execution_count": null,
      "outputs": [
        {
          "output_type": "stream",
          "text": [
            "20\n"
          ],
          "name": "stdout"
        }
      ]
    },
    {
      "cell_type": "markdown",
      "metadata": {
        "id": "p6rkTK_fON-c"
      },
      "source": [
        "### Q. Membership operation in, not in are two membership operators and it returns boolean value"
      ]
    },
    {
      "cell_type": "code",
      "metadata": {
        "id": "iNnSMc0yON-c",
        "outputId": "dd90d269-e2e9-4b34-835d-85352c450296"
      },
      "source": [
        "print ( '2' in 'Python2.7.8' )\n",
        "print ( 10 in [ 10 , 10.20 , 10 + 20j , 'Python' ])\n",
        "print ( 10 in ( 10 , 10.20 , 10 + 20j , 'Python' ))\n",
        "print ( 2 in { 1 , 2 , 3 })\n",
        "print ( 3 in { 1 : 100 , 2 : 200 , 3 : 300 })\n",
        "print ( 10 in range ( 20 ))"
      ],
      "execution_count": null,
      "outputs": [
        {
          "output_type": "stream",
          "text": [
            "True\n",
            "True\n",
            "True\n",
            "True\n",
            "True\n",
            "True\n"
          ],
          "name": "stdout"
        }
      ]
    },
    {
      "cell_type": "markdown",
      "metadata": {
        "id": "oLAfx5OhON-c"
      },
      "source": [
        "### Q. An integer can be represented in binary, octal or hexadecimal form. Declare one binary, one octal and one hexadecimal value and store them in three different variables."
      ]
    },
    {
      "cell_type": "code",
      "metadata": {
        "id": "9-rU_34GON-c"
      },
      "source": [
        ""
      ],
      "execution_count": null,
      "outputs": []
    },
    {
      "cell_type": "markdown",
      "metadata": {
        "id": "dnoF1foOON-c"
      },
      "source": [
        "### Convert 9876 to its binary, octal and hexadecimal equivalent and print their corresponding value."
      ]
    },
    {
      "cell_type": "code",
      "metadata": {
        "id": "mng7hmfnON-c",
        "outputId": "ceb83d6a-0080-4e73-8192-9250da6e952c"
      },
      "source": [
        "print(oct(9876))\n",
        "print(bin(9876))\n",
        "print(hex(9876))"
      ],
      "execution_count": null,
      "outputs": [
        {
          "output_type": "stream",
          "text": [
            "0o23224\n",
            "0b10011010010100\n",
            "0x2694\n"
          ],
          "name": "stdout"
        }
      ]
    },
    {
      "cell_type": "markdown",
      "metadata": {
        "id": "MrbLfZ1nON-c"
      },
      "source": [
        "### Q. What will be the output of following:-"
      ]
    },
    {
      "cell_type": "code",
      "metadata": {
        "id": "Y2C6uER4ON-c",
        "outputId": "0778bbdb-34e3-4c87-e05a-8afbfbf4cc22"
      },
      "source": [
        "a = 0b1010000\n",
        "print (a)\n",
        "b = 0o7436\n",
        "print(b)\n",
        "c = 0xfade\n",
        "print(c)\n",
        "print(bin(80))\n",
        "print(oct(3870))\n",
        "print(hex(64222))\n",
        "print(bin(0b1010000))\n",
        "print(bin(0xfade))\n",
        "print(oct(0xfade))\n",
        "print(oct(0o7436))\n",
        "print(hex(0b1010000))\n",
        "print(hex(0xfade))"
      ],
      "execution_count": null,
      "outputs": [
        {
          "output_type": "stream",
          "text": [
            "80\n",
            "3870\n",
            "64222\n",
            "0b1010000\n",
            "0o7436\n",
            "0xfade\n",
            "0b1010000\n",
            "0b1111101011011110\n",
            "0o175336\n",
            "0o7436\n",
            "0x50\n",
            "0xfade\n"
          ],
          "name": "stdout"
        }
      ]
    },
    {
      "cell_type": "code",
      "metadata": {
        "id": "8Ys_NFuwON-c"
      },
      "source": [
        ""
      ],
      "execution_count": null,
      "outputs": []
    }
  ]
}